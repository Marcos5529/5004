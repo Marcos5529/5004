{
 "cells": [
  {
   "cell_type": "code",
   "execution_count": null,
   "id": "4e8d2480",
   "metadata": {},
   "outputs": [],
   "source": [
    "# ---# Q1: Weekly average of Population Staying at Home\n",
    "import pandas as pd\n",
    "import matplotlib.pyplot as plt\n",
    "import dask.dataframe as dd\n",
    "from dask.distributed import Client\n",
    "import time\n",
    "from sklearn.linear_model import LinearRegression\n",
    "from sklearn.model_selection import train_test_split\n",
    "from sklearn.preprocessing import PolynomialFeatures"
   ]
  },
  {
   "cell_type": "code",
   "execution_count": null,
   "id": "e9eeeef0",
   "metadata": {},
   "outputs": [],
   "source": [
    "# ---Load and Clean Data ---\n",
    "df = pd.read_csv(\"Trips_by_Distance.csv\")\n",
    "df = df[df[\"Level\"] == \"National\"]\n",
    "df[\"Date\"] = pd.to_datetime(df[\"Date\"])\n",
    "df[\"Week\"] = df[\"Date\"].dt.isocalendar().week"
   ]
  },
  {
   "cell_type": "code",
   "execution_count": null,
   "id": "93258d0d",
   "metadata": {},
   "outputs": [],
   "source": [
    "# ---Q1 ---\n",
    "weekly_avg = df.groupby(\"Week\")[\"Population Staying at Home\"].mean()\n",
    "weekly_avg.plot(kind=\"bar\", title=\"Weekly Avg Staying at Home\", figsize=(12,5))\n",
    "plt.xlabel(\"Week\")\n",
    "plt.ylabel(\"Avg Population\")\n",
    "plt.tight_layout()\n",
    "plt.show()"
   ]
  },
  {
   "cell_type": "code",
   "execution_count": null,
   "id": "e9ea0e95",
   "metadata": {},
   "outputs": [],
   "source": [
    "# ---Q2 ---\n",
    "high_10_25 = df[df[\"Number of Trips 10-25\"] > 1e7]\n",
    "high_50_100 = df[df[\"Number of Trips 50-100\"] > 1e7]\n",
    "plt.figure(figsize=(12, 5))\n",
    "plt.scatter(high_10_25[\"Date\"], high_10_25[\"Number of Trips 10-25\"], label=\"10-25 miles\")\n",
    "plt.scatter(high_50_100[\"Date\"], high_50_100[\"Number of Trips 50-100\"], label=\"50-100 miles\")\n",
    "plt.legend()\n",
    "plt.title(\"Dates with >10M Trips\")\n",
    "plt.xlabel(\"Date\")\n",
    "plt.xticks(rotation=45)\n",
    "plt.tight_layout()\n",
    "plt.show()"
   ]
  },
  {
   "cell_type": "code",
   "execution_count": null,
   "id": "2254197a",
   "metadata": {},
   "outputs": [],
   "source": [
    "# ---Q3 ---\n",
    "dtypes = {\n",
    "    \"Population Staying at Home\": \"float64\",\n",
    "    \"Level\": \"object\",\n",
    "    \"Date\": \"object\"\n",
    "}\n",
    "df_benchmark = dd.read_csv(\"Trips_by_Distance.csv\", dtype=dtypes,\n",
    "                           usecols=[\"Population Staying at Home\", \"Level\", \"Date\"],\n",
    "                           blocksize=None, assume_missing=True)\n",
    "df_benchmark = df_benchmark[df_benchmark[\"Level\"] == \"National\"]\n",
    "df_benchmark[\"Date\"] = dd.to_datetime(df_benchmark[\"Date\"])\n",
    "df_benchmark[\"Week\"] = df_benchmark[\"Date\"].dt.isocalendar().week\n",
    "\n",
    "def calc_weekly_avg(dataset):\n",
    "    return dataset.groupby(\"Week\")[\"Population Staying at Home\"].mean().compute()\n",
    "\n",
    "worker_counts = [1, 4, 8]\n",
    "for n in worker_counts:\n",
    "    try:\n",
    "        print(f\"Running with {n} workers:\")\n",
    "        client = Client(n_workers=n, threads_per_worker=1)\n",
    "        start = time.time()\n",
    "        calc_weekly_avg(df_benchmark)\n",
    "        elapsed = time.time() - start\n",
    "        client.shutdown()\n",
    "        print(f\"{n} workers: {elapsed:.2f} seconds\")\n",
    "    except Exception as e:\n",
    "        print(f\"Error with {n} workers: {e}\")"
   ]
  },
  {
   "cell_type": "code",
   "execution_count": null,
   "id": "5f7ce645",
   "metadata": {},
   "outputs": [],
   "source": [
    "# ---Q4 ---\n",
    "df_model = df[[\"Number of Trips 10-25\", \"Number of Trips 5-10\"]].dropna()\n",
    "X = df_model[[\"Number of Trips 10-25\"]]\n",
    "y = df_model[\"Number of Trips 5-10\"]\n",
    "X_train, X_test, y_train, y_test = train_test_split(X, y, test_size=0.2, random_state=0)\n",
    "\n",
    "# Linear Regression\n",
    "lin_model = LinearRegression().fit(X_train, y_train)\n",
    "y_pred_lin = lin_model.predict(X_test)\n",
    "\n",
    "# Polynomial Regression\n",
    "poly = PolynomialFeatures(degree=2)\n",
    "X_poly_train = poly.fit_transform(X_train)\n",
    "poly_model = LinearRegression().fit(X_poly_train, y_train)\n",
    "y_pred_poly = poly_model.predict(poly.transform(X_test))\n",
    "\n",
    "plt.figure(figsize=(10, 5))\n",
    "plt.scatter(X_test, y_test, label=\"Actual\", color=\"gray\")\n",
    "plt.plot(X_test, y_pred_lin, label=\"Linear\", color=\"blue\")\n",
    "plt.plot(X_test, y_pred_poly, label=\"Polynomial\", color=\"red\", linestyle=\"--\")\n",
    "plt.xlabel(\"Trips 10–25\")\n",
    "plt.ylabel(\"Trips 5–10\")\n",
    "plt.title(\"Regression Predictions\")\n",
    "plt.legend()\n",
    "plt.grid(True)\n",
    "plt.tight_layout()\n",
    "plt.show()"
   ]
  },
  {
   "cell_type": "code",
   "execution_count": null,
   "id": "8b0f16f8",
   "metadata": {},
   "outputs": [],
   "source": [
    "# ---Q5 ---\n",
    "distance_cols = [\n",
    "    \"Number of Trips <1\", \"Number of Trips 1-3\", \"Number of Trips 3-5\",\n",
    "    \"Number of Trips 5-10\", \"Number of Trips 10-25\", \"Number of Trips 25-50\",\n",
    "    \"Number of Trips 50-100\", \"Number of Trips 100-250\",\n",
    "    \"Number of Trips 250-500\", \"Number of Trips >=500\"\n",
    "]\n",
    "df[distance_cols].mean().plot(kind=\"bar\", figsize=(12, 5), title=\"Avg Trip Count by Distance\", color=\"teal\")\n",
    "plt.ylabel(\"Trip Count\")\n",
    "plt.xticks(rotation=45)\n",
    "plt.tight_layout()\n",
    "plt.show()"
   ]
  },
  {
   "cell_type": "code",
   "execution_count": null,
   "id": "cdaab222",
   "metadata": {},
   "outputs": [],
   "source": [
    "# ---Q6 ---\n",
    "df[[\"Week\", \"Number of Trips 1-3\", \"Number of Trips 3-5\"]].groupby(\"Week\").mean().plot(\n",
    "    kind=\"bar\", stacked=True, figsize=(12, 5), title=\"Simplified Weekly Travel Summary\")\n",
    "plt.xlabel(\"Week\")\n",
    "plt.ylabel(\"Avg Trip Count\")\n",
    "plt.tight_layout()\n",
    "plt.show()"
   ]
  }
 ],
 "metadata": {},
 "nbformat": 4,
 "nbformat_minor": 5
}
